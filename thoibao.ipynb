{
 "cells": [
  {
   "cell_type": "code",
   "execution_count": 33,
   "metadata": {},
   "outputs": [],
   "source": [
    "from bs4 import BeautifulSoup\n",
    "from datetime import datetime, date\n",
    "import numpy as np\n",
    "import pandas as pd\n",
    "import urllib\n",
    "import matplotlib.pyplot as plt\n",
    "import re"
   ]
  },
  {
   "cell_type": "code",
   "execution_count": 2,
   "metadata": {},
   "outputs": [],
   "source": [
    "# with open('feed.xml', encoding='utf-8') as fp:\n",
    "#     soup = BeautifulSoup(fp, 'lxml-xml')"
   ]
  },
  {
   "cell_type": "markdown",
   "metadata": {},
   "source": [
    "## Download content"
   ]
  },
  {
   "cell_type": "code",
   "execution_count": 3,
   "metadata": {},
   "outputs": [],
   "source": [
    "with urllib.request.urlopen('http://thoibao.com/category/doi-song/hop-thu-tim-ban-doi-song/feed/') as f:\n",
    "    xmlContent = f.read()\n",
    "    soup = BeautifulSoup(xmlContent, 'lxml-xml')"
   ]
  },
  {
   "cell_type": "code",
   "execution_count": 91,
   "metadata": {},
   "outputs": [],
   "source": [
    "arr = []\n",
    "agePattern1 = re.compile(r'(\\d+) tuổi', re.I)\n",
    "agePattern2 = re.compile(r'ngoài (\\d+)', re.I)\n",
    "agePattern3 = re.compile(r'sinh năm (\\d+)', re.I)\n",
    "\n",
    "for item in soup.find_all('item'):\n",
    "    dateString = item.find('pubDate').text\n",
    "    content = item.find('content:encoded').text\n",
    "    \n",
    "    contentSoup = BeautifulSoup(content, 'lxml')\n",
    "    for person in contentSoup.find_all('p'):\n",
    "        id = person.find('strong')\n",
    "        try:\n",
    "            id = int(id.text)\n",
    "            description = person.text.split('–')[-1].strip()\n",
    "            \n",
    "            age = None\n",
    "            match = agePattern1.search(description)\n",
    "            age = None if match is None else int(match.group(1))\n",
    "            \n",
    "            if age is None:\n",
    "                match = agePattern2.search(description)\n",
    "                age = None if match is None else int(match.group(1))\n",
    "            if age is None:\n",
    "                match = agePattern3.search(description)\n",
    "                age = date.today().year - int(match.group(1))\n",
    "            \n",
    "            arr.append((dateString, id, age, description))\n",
    "        except (ValueError, AttributeError):\n",
    "            pass"
   ]
  },
  {
   "cell_type": "code",
   "execution_count": 92,
   "metadata": {},
   "outputs": [
    {
     "data": {
      "text/plain": [
       "(332, 4)"
      ]
     },
     "execution_count": 92,
     "metadata": {},
     "output_type": "execute_result"
    }
   ],
   "source": [
    "df = pd.DataFrame(arr, columns=['date', 'id', 'age', 'description'])\n",
    "df['date'] = df['date'].astype(np.datetime64).apply(lambda d: d.date())\n",
    "df.shape"
   ]
  },
  {
   "cell_type": "markdown",
   "metadata": {},
   "source": [
    "## Compile statistics"
   ]
  },
  {
   "cell_type": "code",
   "execution_count": 93,
   "metadata": {},
   "outputs": [],
   "source": [
    "grp = df.groupby('id')\n",
    "df2 = pd.DataFrame({\n",
    "    'age': grp['age'].mean(),\n",
    "    'min': grp['date'].min(),\n",
    "    'max': grp['date'].max(),\n",
    "    'count': grp['date'].count(),\n",
    "    'description': grp['description'].min()\n",
    "})"
   ]
  },
  {
   "cell_type": "code",
   "execution_count": 94,
   "metadata": {},
   "outputs": [],
   "source": [
    "def describe(id):\n",
    "    try:\n",
    "        _id = id if type(id) is list else [id]\n",
    "        people = df2[df2.index.isin(_id)]\n",
    "    except KeyError:\n",
    "        print(f'Cannot find id {id}')\n",
    "        return\n",
    "\n",
    "    for id, person in people.iterrows():\n",
    "        print(f'''\n",
    "id = {id}. From {person['min']:%b %d, %Y} to {person['max']:%b %d, %Y}. {person['count']} kỳ.\n",
    "{person['description']}\n",
    "''')"
   ]
  },
  {
   "cell_type": "markdown",
   "metadata": {},
   "source": [
    "## Query"
   ]
  },
  {
   "cell_type": "markdown",
   "metadata": {},
   "source": [
    "New listings:"
   ]
  },
  {
   "cell_type": "code",
   "execution_count": 95,
   "metadata": {},
   "outputs": [
    {
     "data": {
      "text/html": [
       "<div>\n",
       "<style scoped>\n",
       "    .dataframe tbody tr th:only-of-type {\n",
       "        vertical-align: middle;\n",
       "    }\n",
       "\n",
       "    .dataframe tbody tr th {\n",
       "        vertical-align: top;\n",
       "    }\n",
       "\n",
       "    .dataframe thead th {\n",
       "        text-align: right;\n",
       "    }\n",
       "</style>\n",
       "<table border=\"1\" class=\"dataframe\">\n",
       "  <thead>\n",
       "    <tr style=\"text-align: right;\">\n",
       "      <th></th>\n",
       "      <th>age</th>\n",
       "      <th>min</th>\n",
       "      <th>max</th>\n",
       "      <th>count</th>\n",
       "      <th>description</th>\n",
       "    </tr>\n",
       "    <tr>\n",
       "      <th>id</th>\n",
       "      <th></th>\n",
       "      <th></th>\n",
       "      <th></th>\n",
       "      <th></th>\n",
       "      <th></th>\n",
       "    </tr>\n",
       "  </thead>\n",
       "  <tbody>\n",
       "    <tr>\n",
       "      <th>2412</th>\n",
       "      <td>50</td>\n",
       "      <td>2018-10-19</td>\n",
       "      <td>2018-11-09</td>\n",
       "      <td>4</td>\n",
       "      <td>Nam, tuổi ngoài 50, cao 1M 78, nặng 70 Kg, tốt...</td>\n",
       "    </tr>\n",
       "    <tr>\n",
       "      <th>2413</th>\n",
       "      <td>46</td>\n",
       "      <td>2018-10-19</td>\n",
       "      <td>2018-11-09</td>\n",
       "      <td>4</td>\n",
       "      <td>Nam, 46 tuổi, cao 1M 71, độc thân, không cờ bạ...</td>\n",
       "    </tr>\n",
       "    <tr>\n",
       "      <th>2414</th>\n",
       "      <td>58</td>\n",
       "      <td>2018-11-03</td>\n",
       "      <td>2018-11-09</td>\n",
       "      <td>2</td>\n",
       "      <td>Nữ, 58 tuổi, người miền Nam, sống và làm việc ...</td>\n",
       "    </tr>\n",
       "    <tr>\n",
       "      <th>2415</th>\n",
       "      <td>33</td>\n",
       "      <td>2018-11-09</td>\n",
       "      <td>2018-11-09</td>\n",
       "      <td>1</td>\n",
       "      <td>Mình là nữ, 33 tuổi, độc thân, người miền Nam....</td>\n",
       "    </tr>\n",
       "    <tr>\n",
       "      <th>2416</th>\n",
       "      <td>41</td>\n",
       "      <td>2018-11-09</td>\n",
       "      <td>2018-11-09</td>\n",
       "      <td>1</td>\n",
       "      <td>Nữ sinh năm 1977, chưa từng kết hôn, chưa có c...</td>\n",
       "    </tr>\n",
       "  </tbody>\n",
       "</table>\n",
       "</div>"
      ],
      "text/plain": [
       "      age         min         max  count  \\\n",
       "id                                         \n",
       "2412   50  2018-10-19  2018-11-09      4   \n",
       "2413   46  2018-10-19  2018-11-09      4   \n",
       "2414   58  2018-11-03  2018-11-09      2   \n",
       "2415   33  2018-11-09  2018-11-09      1   \n",
       "2416   41  2018-11-09  2018-11-09      1   \n",
       "\n",
       "                                            description  \n",
       "id                                                       \n",
       "2412  Nam, tuổi ngoài 50, cao 1M 78, nặng 70 Kg, tốt...  \n",
       "2413  Nam, 46 tuổi, cao 1M 71, độc thân, không cờ bạ...  \n",
       "2414  Nữ, 58 tuổi, người miền Nam, sống và làm việc ...  \n",
       "2415  Mình là nữ, 33 tuổi, độc thân, người miền Nam....  \n",
       "2416  Nữ sinh năm 1977, chưa từng kết hôn, chưa có c...  "
      ]
     },
     "execution_count": 95,
     "metadata": {},
     "output_type": "execute_result"
    }
   ],
   "source": [
    "allDates = np.sort(df['date'].unique())\n",
    "df2[df2['min'] >= allDates[-4]]"
   ]
  },
  {
   "cell_type": "markdown",
   "metadata": {},
   "source": [
    "Contacts:"
   ]
  },
  {
   "cell_type": "code",
   "execution_count": 76,
   "metadata": {},
   "outputs": [
    {
     "data": {
      "text/html": [
       "<div>\n",
       "<style scoped>\n",
       "    .dataframe tbody tr th:only-of-type {\n",
       "        vertical-align: middle;\n",
       "    }\n",
       "\n",
       "    .dataframe tbody tr th {\n",
       "        vertical-align: top;\n",
       "    }\n",
       "\n",
       "    .dataframe thead th {\n",
       "        text-align: right;\n",
       "    }\n",
       "</style>\n",
       "<table border=\"1\" class=\"dataframe\">\n",
       "  <thead>\n",
       "    <tr style=\"text-align: right;\">\n",
       "      <th></th>\n",
       "      <th>age</th>\n",
       "      <th>min</th>\n",
       "      <th>max</th>\n",
       "      <th>count</th>\n",
       "      <th>description</th>\n",
       "    </tr>\n",
       "    <tr>\n",
       "      <th>id</th>\n",
       "      <th></th>\n",
       "      <th></th>\n",
       "      <th></th>\n",
       "      <th></th>\n",
       "      <th></th>\n",
       "    </tr>\n",
       "  </thead>\n",
       "  <tbody>\n",
       "    <tr>\n",
       "      <th>2379</th>\n",
       "      <td>29</td>\n",
       "      <td>2018-09-07</td>\n",
       "      <td>2018-11-09</td>\n",
       "      <td>10</td>\n",
       "      <td>Nữ, 29 tuổi, ở Toronto, ngoại hình xinh xắn. c...</td>\n",
       "    </tr>\n",
       "    <tr>\n",
       "      <th>2384</th>\n",
       "      <td>28</td>\n",
       "      <td>2018-09-07</td>\n",
       "      <td>2018-11-09</td>\n",
       "      <td>10</td>\n",
       "      <td>Nữ, 28 tuổi chưa từng lập gia đình, ngoan hiền...</td>\n",
       "    </tr>\n",
       "  </tbody>\n",
       "</table>\n",
       "</div>"
      ],
      "text/plain": [
       "      age         min         max  count  \\\n",
       "id                                         \n",
       "2379   29  2018-09-07  2018-11-09     10   \n",
       "2384   28  2018-09-07  2018-11-09     10   \n",
       "\n",
       "                                            description  \n",
       "id                                                       \n",
       "2379  Nữ, 29 tuổi, ở Toronto, ngoại hình xinh xắn. c...  \n",
       "2384  Nữ, 28 tuổi chưa từng lập gia đình, ngoan hiền...  "
      ]
     },
     "execution_count": 76,
     "metadata": {},
     "output_type": "execute_result"
    }
   ],
   "source": [
    "df2[df2.index.isin([2357, 2379, 2384])]"
   ]
  },
  {
   "cell_type": "code",
   "execution_count": 77,
   "metadata": {},
   "outputs": [
    {
     "name": "stdout",
     "output_type": "stream",
     "text": [
      "\n",
      "id = 2379. From Sep 07, 2018 to Nov 09, 2018. 10 kỳ.\n",
      "Nữ, 29 tuổi, ở Toronto, ngoại hình xinh xắn. cao 1M 57, thật thà, vui vẻ. Tốt nghiệp đại học. Công việc ổn định, thích travel, music, movie. Mong tìm bạn trai tuổi từ 30-36, ngoại hình cao ráo, dễ nhìn, chân thật. Không hút thuốc, tốt nghiệp đại học, công việc ổn. Nếu thích hợp sẽ tiến xa hơn, xin cho số phone hoặc email để liên lạc.\n",
      "\n",
      "\n",
      "id = 2384. From Sep 07, 2018 to Nov 09, 2018. 10 kỳ.\n",
      "Nữ, 28 tuổi chưa từng lập gia đình, ngoan hiền, ít nói, hiểu biết, chu đáo trong mọi công việc, đang có việc làm ổn định và rất yêu thích mái ấm gia đình. Mong tìm bạn trai từ 30 tuổi trở lên, nếu có nhã ý xin cho số phone, email để tiện liên lạc. Rất mong nhận được thư của người có thành ý. Cám ơn.\n",
      "\n"
     ]
    }
   ],
   "source": [
    "describe([2379, 2384])"
   ]
  },
  {
   "cell_type": "markdown",
   "metadata": {},
   "source": [
    "## Playground"
   ]
  },
  {
   "cell_type": "code",
   "execution_count": 79,
   "metadata": {},
   "outputs": [
    {
     "data": {
      "text/plain": [
       "count    41.000000\n",
       "mean     45.073171\n",
       "std      12.863495\n",
       "min      21.000000\n",
       "25%      34.000000\n",
       "50%      48.000000\n",
       "75%      55.000000\n",
       "max      65.000000\n",
       "Name: age, dtype: float64"
      ]
     },
     "execution_count": 79,
     "metadata": {},
     "output_type": "execute_result"
    }
   ],
   "source": [
    "df2['age'].describe()"
   ]
  },
  {
   "cell_type": "code",
   "execution_count": 81,
   "metadata": {},
   "outputs": [
    {
     "data": {
      "text/plain": [
       "(41, 5)"
      ]
     },
     "execution_count": 81,
     "metadata": {},
     "output_type": "execute_result"
    }
   ],
   "source": [
    "df2.shape"
   ]
  },
  {
   "cell_type": "code",
   "execution_count": 85,
   "metadata": {},
   "outputs": [
    {
     "data": {
      "text/html": [
       "<div>\n",
       "<style scoped>\n",
       "    .dataframe tbody tr th:only-of-type {\n",
       "        vertical-align: middle;\n",
       "    }\n",
       "\n",
       "    .dataframe tbody tr th {\n",
       "        vertical-align: top;\n",
       "    }\n",
       "\n",
       "    .dataframe thead th {\n",
       "        text-align: right;\n",
       "    }\n",
       "</style>\n",
       "<table border=\"1\" class=\"dataframe\">\n",
       "  <thead>\n",
       "    <tr style=\"text-align: right;\">\n",
       "      <th></th>\n",
       "      <th>age</th>\n",
       "      <th>min</th>\n",
       "      <th>max</th>\n",
       "      <th>count</th>\n",
       "      <th>description</th>\n",
       "    </tr>\n",
       "    <tr>\n",
       "      <th>id</th>\n",
       "      <th></th>\n",
       "      <th></th>\n",
       "      <th></th>\n",
       "      <th></th>\n",
       "      <th></th>\n",
       "    </tr>\n",
       "  </thead>\n",
       "  <tbody>\n",
       "    <tr>\n",
       "      <th>2370</th>\n",
       "      <td>21</td>\n",
       "      <td>2018-09-07</td>\n",
       "      <td>2018-09-07</td>\n",
       "      <td>1</td>\n",
       "      <td>Nữ, sinh năm 1997, Châu Thành tỉnh Bến Tre,Việ...</td>\n",
       "    </tr>\n",
       "    <tr>\n",
       "      <th>2375</th>\n",
       "      <td>21</td>\n",
       "      <td>2018-09-07</td>\n",
       "      <td>2018-10-26</td>\n",
       "      <td>8</td>\n",
       "      <td>Tôi có một cháu gái, 21 tuổi quê ở Gò Công. Tr...</td>\n",
       "    </tr>\n",
       "    <tr>\n",
       "      <th>2379</th>\n",
       "      <td>29</td>\n",
       "      <td>2018-09-07</td>\n",
       "      <td>2018-11-09</td>\n",
       "      <td>10</td>\n",
       "      <td>Nữ, 29 tuổi, ở Toronto, ngoại hình xinh xắn. c...</td>\n",
       "    </tr>\n",
       "    <tr>\n",
       "      <th>2380</th>\n",
       "      <td>25</td>\n",
       "      <td>2018-09-07</td>\n",
       "      <td>2018-11-09</td>\n",
       "      <td>10</td>\n",
       "      <td>Nữ, 25 tuổi, độc thân, người miền Nam, cao 1M ...</td>\n",
       "    </tr>\n",
       "    <tr>\n",
       "      <th>2384</th>\n",
       "      <td>28</td>\n",
       "      <td>2018-09-07</td>\n",
       "      <td>2018-11-09</td>\n",
       "      <td>10</td>\n",
       "      <td>Nữ, 28 tuổi chưa từng lập gia đình, ngoan hiền...</td>\n",
       "    </tr>\n",
       "    <tr>\n",
       "      <th>2398</th>\n",
       "      <td>27</td>\n",
       "      <td>2018-09-07</td>\n",
       "      <td>2018-11-09</td>\n",
       "      <td>10</td>\n",
       "      <td>Tôi có một cháu gái, 27 tuổi, hiện đang ở Sài ...</td>\n",
       "    </tr>\n",
       "    <tr>\n",
       "      <th>2400</th>\n",
       "      <td>29</td>\n",
       "      <td>2018-09-07</td>\n",
       "      <td>2018-11-09</td>\n",
       "      <td>10</td>\n",
       "      <td>Tôi có một cháu gái 29 tuổi, có ngoại hình cao...</td>\n",
       "    </tr>\n",
       "    <tr>\n",
       "      <th>2406</th>\n",
       "      <td>25</td>\n",
       "      <td>2018-09-07</td>\n",
       "      <td>2018-11-09</td>\n",
       "      <td>10</td>\n",
       "      <td>Tôi có một cháu trai 25 tuổi, người Canada, Tà...</td>\n",
       "    </tr>\n",
       "  </tbody>\n",
       "</table>\n",
       "</div>"
      ],
      "text/plain": [
       "      age         min         max  count  \\\n",
       "id                                         \n",
       "2370   21  2018-09-07  2018-09-07      1   \n",
       "2375   21  2018-09-07  2018-10-26      8   \n",
       "2379   29  2018-09-07  2018-11-09     10   \n",
       "2380   25  2018-09-07  2018-11-09     10   \n",
       "2384   28  2018-09-07  2018-11-09     10   \n",
       "2398   27  2018-09-07  2018-11-09     10   \n",
       "2400   29  2018-09-07  2018-11-09     10   \n",
       "2406   25  2018-09-07  2018-11-09     10   \n",
       "\n",
       "                                            description  \n",
       "id                                                       \n",
       "2370  Nữ, sinh năm 1997, Châu Thành tỉnh Bến Tre,Việ...  \n",
       "2375  Tôi có một cháu gái, 21 tuổi quê ở Gò Công. Tr...  \n",
       "2379  Nữ, 29 tuổi, ở Toronto, ngoại hình xinh xắn. c...  \n",
       "2380  Nữ, 25 tuổi, độc thân, người miền Nam, cao 1M ...  \n",
       "2384  Nữ, 28 tuổi chưa từng lập gia đình, ngoan hiền...  \n",
       "2398  Tôi có một cháu gái, 27 tuổi, hiện đang ở Sài ...  \n",
       "2400  Tôi có một cháu gái 29 tuổi, có ngoại hình cao...  \n",
       "2406  Tôi có một cháu trai 25 tuổi, người Canada, Tà...  "
      ]
     },
     "execution_count": 85,
     "metadata": {},
     "output_type": "execute_result"
    }
   ],
   "source": [
    "df2[df2.age <= 30]"
   ]
  },
  {
   "cell_type": "code",
   "execution_count": null,
   "metadata": {},
   "outputs": [],
   "source": []
  }
 ],
 "metadata": {
  "kernelspec": {
   "display_name": "Python 3",
   "language": "python",
   "name": "python3"
  },
  "language_info": {
   "codemirror_mode": {
    "name": "ipython",
    "version": 3
   },
   "file_extension": ".py",
   "mimetype": "text/x-python",
   "name": "python",
   "nbconvert_exporter": "python",
   "pygments_lexer": "ipython3",
   "version": "3.7.1"
  }
 },
 "nbformat": 4,
 "nbformat_minor": 2
}
